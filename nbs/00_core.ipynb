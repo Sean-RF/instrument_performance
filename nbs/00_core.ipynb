{
 "cells": [
  {
   "cell_type": "markdown",
   "metadata": {},
   "source": [
    "# Instrument Performance study\n",
    "\n",
    "> Compute performance metrics of an instrument based on design constraints"
   ]
  },
  {
   "cell_type": "code",
   "execution_count": null,
   "metadata": {},
   "outputs": [],
   "source": [
    "#| default_exp performance_study"
   ]
  },
  {
   "cell_type": "code",
   "execution_count": null,
   "metadata": {},
   "outputs": [],
   "source": [
    "#| hide\n",
    "import nbdev.showdoc as showdoc"
   ]
  },
  {
   "cell_type": "markdown",
   "metadata": {},
   "source": [
    "Start by creating an object that will hold all of the parameters. This can be patched to as neccesary. I haven't decided if I want to implement support for handling \n",
    "which variables are dependent/independent. For now, I'm going to just compute things as in the GEMS CUBIC NASA AOS Performance sheet."
   ]
  },
  {
   "cell_type": "code",
   "execution_count": null,
   "metadata": {},
   "outputs": [],
   "source": [
    "instrument_parameters = {\n",
    "    \"alittude\": 450e3, # geodetic orbital altitude in m\n",
    "    \"scan_angle_limit\" : 45 # scan angle limit in degrees\n",
    "}"
   ]
  },
  {
   "cell_type": "code",
   "execution_count": null,
   "metadata": {},
   "outputs": [],
   "source": [
    "#| export\n",
    "class Instrument:\n",
    "    \"An instance of an instrument to be studied.\"\n",
    "    def __init__(self):\n",
    "        self.altitude = None #geodetic orbital altitude in m, specified over equatorial radius\n",
    "        self.scan_angle_limit = None #\n",
    "\n",
    "\n",
    "    def amethod(self): #hello you can hear me\n",
    "        \"stuff will be computed\"\n",
    "        return altitude*3\n",
    "    \n",
    "    def anothermethod(self,x:float = 0 # x has special qualities\n",
    "                      ):\n",
    "        return x + 10"
   ]
  },
  {
   "cell_type": "code",
   "execution_count": null,
   "metadata": {},
   "outputs": [],
   "source": [
    "#| hide\n",
    "# showdoc.show_doc(Instrument)"
   ]
  },
  {
   "cell_type": "code",
   "execution_count": null,
   "metadata": {},
   "outputs": [
    {
     "data": {
      "text/markdown": [
       "---\n",
       "\n",
       "### Instrument.amethod\n",
       "\n",
       ">      Instrument.amethod ()\n",
       "\n",
       "*stuff will be computed*"
      ],
      "text/plain": [
       "---\n",
       "\n",
       "### Instrument.amethod\n",
       "\n",
       ">      Instrument.amethod ()\n",
       "\n",
       "*stuff will be computed*"
      ]
     },
     "metadata": {},
     "output_type": "display_data"
    },
    {
     "data": {
      "text/markdown": [
       "---\n",
       "\n",
       "### Instrument.anothermethod\n",
       "\n",
       ">      Instrument.anothermethod (x:float=0)\n",
       "\n",
       "|    | **Type** | **Default** | **Details** |\n",
       "| -- | -------- | ----------- | ----------- |\n",
       "| x | float | 0 | x has special qualities |"
      ],
      "text/plain": [
       "---\n",
       "\n",
       "### Instrument.anothermethod\n",
       "\n",
       ">      Instrument.anothermethod (x:float=0)\n",
       "\n",
       "|    | **Type** | **Default** | **Details** |\n",
       "| -- | -------- | ----------- | ----------- |\n",
       "| x | float | 0 | x has special qualities |"
      ]
     },
     "metadata": {},
     "output_type": "display_data"
    }
   ],
   "source": [
    "#|echo: false\n",
    "for method in [method for method in dir(Instrument) if method.startswith('__') is False]:\n",
    "    display(showdoc.show_doc(getattr(Instrument,method)))"
   ]
  },
  {
   "cell_type": "code",
   "execution_count": null,
   "metadata": {},
   "outputs": [],
   "source": [
    "methlist = [method for method in dir(Instrument) if method.startswith('__') is False]\n",
    "for method in methlist:\n",
    "    showdoc.show_doc(getattr(Instrument,method))"
   ]
  },
  {
   "cell_type": "code",
   "execution_count": null,
   "metadata": {},
   "outputs": [
    {
     "data": {
      "text/markdown": [
       "---\n",
       "\n",
       "### Instrument.anothermethod\n",
       "\n",
       ">      Instrument.anothermethod (x:float=0)\n",
       "\n",
       "|    | **Type** | **Default** | **Details** |\n",
       "| -- | -------- | ----------- | ----------- |\n",
       "| x | float | 0 | x has special qualities |"
      ],
      "text/plain": [
       "---\n",
       "\n",
       "### Instrument.anothermethod\n",
       "\n",
       ">      Instrument.anothermethod (x:float=0)\n",
       "\n",
       "|    | **Type** | **Default** | **Details** |\n",
       "| -- | -------- | ----------- | ----------- |\n",
       "| x | float | 0 | x has special qualities |"
      ]
     },
     "execution_count": null,
     "metadata": {},
     "output_type": "execute_result"
    }
   ],
   "source": [
    "#hide_input\n",
    "\n",
    "showdoc.show_doc(getattr(Instrument,methlist[0]))\n",
    "showdoc.show_doc(getattr(Instrument,methlist[1]))"
   ]
  },
  {
   "cell_type": "code",
   "execution_count": null,
   "metadata": {},
   "outputs": [
    {
     "name": "stderr",
     "output_type": "stream",
     "text": [
      "/home/smckee/.cache/pypoetry/virtualenvs/instrument-performance-0sEDT0CI-py3.12/lib/python3.12/site-packages/fastcore/docscrape.py:230: UserWarning: Unknown section See Also\n",
      "  else: warn(msg)\n"
     ]
    },
    {
     "data": {
      "text/markdown": [
       "---\n",
       "\n",
       "### all\n",
       "\n",
       ">      all (a, axis=None, out=None, keepdims=<no value>, where=<no value>)\n",
       "\n",
       "*Test whether all array elements along a given axis evaluate to True.*\n",
       "\n",
       "|    | **Type** | **Default** | **Details** |\n",
       "| -- | -------- | ----------- | ----------- |\n",
       "| a | array_like |  | Input array or object that can be converted to an array. |\n",
       "| axis | NoneType | None | Axis or axes along which a logical AND reduction is performed.<br>The default (``axis=None``) is to perform a logical AND over all<br>the dimensions of the input array. `axis` may be negative, in<br>which case it counts from the last to the first axis. If this<br>is a tuple of ints, a reduction is performed on multiple<br>axes, instead of a single axis or all the axes as before. |\n",
       "| out | NoneType | None | Alternate output array in which to place the result.<br>It must have the same shape as the expected output and its<br>type is preserved (e.g., if ``dtype(out)`` is float, the result<br>will consist of 0.0's and 1.0's). See :ref:`ufuncs-output-type`<br>for more details. |\n",
       "| keepdims | _NoValueType | <no value> | If this is set to True, the axes which are reduced are left<br>in the result as dimensions with size one. With this option,<br>the result will broadcast correctly against the input array.<br><br>If the default value is passed, then `keepdims` will not be<br>passed through to the `all` method of sub-classes of<br>`ndarray`, however any non-default value will be.  If the<br>sub-class' method does not implement `keepdims` any<br>exceptions will be raised. |\n",
       "| where | _NoValueType | <no value> | Elements to include in checking for all `True` values.<br>See `~numpy.ufunc.reduce` for details.<br><br>.. versionadded:: 1.20.0 |\n",
       "| **Returns** | **ndarray, bool** |  | **A new boolean or array is returned unless `out` is specified,<br>in which case a reference to `out` is returned.** |"
      ],
      "text/plain": [
       "---\n",
       "\n",
       "### all\n",
       "\n",
       ">      all (a, axis=None, out=None, keepdims=<no value>, where=<no value>)\n",
       "\n",
       "*Test whether all array elements along a given axis evaluate to True.*\n",
       "\n",
       "|    | **Type** | **Default** | **Details** |\n",
       "| -- | -------- | ----------- | ----------- |\n",
       "| a | array_like |  | Input array or object that can be converted to an array. |\n",
       "| axis | NoneType | None | Axis or axes along which a logical AND reduction is performed.<br>The default (``axis=None``) is to perform a logical AND over all<br>the dimensions of the input array. `axis` may be negative, in<br>which case it counts from the last to the first axis. If this<br>is a tuple of ints, a reduction is performed on multiple<br>axes, instead of a single axis or all the axes as before. |\n",
       "| out | NoneType | None | Alternate output array in which to place the result.<br>It must have the same shape as the expected output and its<br>type is preserved (e.g., if ``dtype(out)`` is float, the result<br>will consist of 0.0's and 1.0's). See :ref:`ufuncs-output-type`<br>for more details. |\n",
       "| keepdims | _NoValueType | <no value> | If this is set to True, the axes which are reduced are left<br>in the result as dimensions with size one. With this option,<br>the result will broadcast correctly against the input array.<br><br>If the default value is passed, then `keepdims` will not be<br>passed through to the `all` method of sub-classes of<br>`ndarray`, however any non-default value will be.  If the<br>sub-class' method does not implement `keepdims` any<br>exceptions will be raised. |\n",
       "| where | _NoValueType | <no value> | Elements to include in checking for all `True` values.<br>See `~numpy.ufunc.reduce` for details.<br><br>.. versionadded:: 1.20.0 |\n",
       "| **Returns** | **ndarray, bool** |  | **A new boolean or array is returned unless `out` is specified,<br>in which case a reference to `out` is returned.** |"
      ]
     },
     "execution_count": null,
     "metadata": {},
     "output_type": "execute_result"
    }
   ],
   "source": [
    "from numpy import all\n",
    "showdoc.show_doc(all)"
   ]
  },
  {
   "cell_type": "code",
   "execution_count": null,
   "metadata": {},
   "outputs": [],
   "source": [
    "#| hide\n",
    "import nbdev; nbdev.nbdev_export()"
   ]
  }
 ],
 "metadata": {
  "kernelspec": {
   "display_name": "python3",
   "language": "python",
   "name": "python3"
  }
 },
 "nbformat": 4,
 "nbformat_minor": 4
}
